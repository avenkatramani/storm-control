{
 "cells": [
  {
   "cell_type": "code",
   "execution_count": 3,
   "metadata": {},
   "outputs": [],
   "source": [
    "import numpy as np\n",
    "import xml.etree.ElementTree as gfg "
   ]
  },
  {
   "cell_type": "code",
   "execution_count": 4,
   "metadata": {},
   "outputs": [
    {
     "data": {
      "text/plain": [
       "460.0"
      ]
     },
     "execution_count": 4,
     "metadata": {},
     "output_type": "execute_result"
    }
   ],
   "source": [
    "start = -80\n",
    "stop = 380\n",
    "step = 4\n",
    "repeat = 4\n",
    "np.floor((0.9*step+stop-start)/step)*repeat "
   ]
  },
  {
   "cell_type": "code",
   "execution_count": 5,
   "metadata": {},
   "outputs": [],
   "source": [
    "frames = 575 + 1\n",
    "channels = [3,1,2,0,4] \n",
    "#Wierdly the first value gets skipped. \n",
    "#Maybe there is a spurious signal? Adding in a extra at the beginning\n",
    "#Also adding in an extra value for the galvo"
   ]
  },
  {
   "cell_type": "code",
   "execution_count": 6,
   "metadata": {},
   "outputs": [],
   "source": [
    "channel_list = np.tile(channels, frames-1)\n",
    "channel_list = np.append(channel_list[0], channel_list)"
   ]
  },
  {
   "cell_type": "code",
   "execution_count": 7,
   "metadata": {},
   "outputs": [],
   "source": [
    "on_list = []\n",
    "off_list = []\n",
    "for i in range(frames):\n",
    "    on_list.append(float(i))\n",
    "    off_list.append(float(i)+1)\n",
    "    \n",
    "on_list = np.array(on_list)\n",
    "off_list = np.array(off_list)"
   ]
  },
  {
   "cell_type": "code",
   "execution_count": 8,
   "metadata": {},
   "outputs": [],
   "source": [
    "root = gfg.Element(\"repeat\")\n",
    "m1 = gfg.SubElement(root, \"oversampling\")\n",
    "m1.text = \"1\"\n",
    "\n",
    "m1 = gfg.SubElement(root, \"frames\")\n",
    "m1.text = str(frames)\n",
    "\n",
    "for i in range(frames):\n",
    "    m1 = gfg.SubElement(root, \"event\")\n",
    "    m2 = gfg.SubElement(m1, \"channel\")\n",
    "    m2.text = str(channel_list[i])\n",
    "    m2 = gfg.SubElement(m1, \"power\")\n",
    "    m2.text = str(1)\n",
    "    m2 = gfg.SubElement(m1, \"on\")\n",
    "    m2.text = str(on_list[i])\n",
    "    m2 = gfg.SubElement(m1, \"off\")\n",
    "    m2.text = str(off_list[i])\n",
    "    m2 = gfg.SubElement(m1, \"color\")\n",
    "    m2.text = \"255,255,255\"\n",
    "\n",
    "tree = gfg.ElementTree(root)"
   ]
  },
  {
   "cell_type": "code",
   "execution_count": 9,
   "metadata": {},
   "outputs": [],
   "source": [
    "tree.write(\"C:\\\\Users\\\\Zhuang\\\\storm_control\\\\storm_control\\\\hal4000\\\\xml\\\\Aditya\\\\shutters.xml\")"
   ]
  },
  {
   "cell_type": "code",
   "execution_count": null,
   "metadata": {},
   "outputs": [],
   "source": []
  }
 ],
 "metadata": {
  "kernelspec": {
   "display_name": "Python 3",
   "language": "python",
   "name": "python3"
  },
  "language_info": {
   "codemirror_mode": {
    "name": "ipython",
    "version": 3
   },
   "file_extension": ".py",
   "mimetype": "text/x-python",
   "name": "python",
   "nbconvert_exporter": "python",
   "pygments_lexer": "ipython3",
   "version": "3.8.5"
  }
 },
 "nbformat": 4,
 "nbformat_minor": 4
}
