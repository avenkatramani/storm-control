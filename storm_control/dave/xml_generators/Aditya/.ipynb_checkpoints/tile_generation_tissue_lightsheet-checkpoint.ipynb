{
 "cells": [
  {
   "cell_type": "code",
   "execution_count": 1,
   "metadata": {},
   "outputs": [],
   "source": [
    "import pandas as pd\n",
    "import numpy as np\n",
    "from shapely import geometry\n",
    "\n",
    "from shapely.ops import cascaded_union\n",
    "import os"
   ]
  },
  {
   "cell_type": "code",
   "execution_count": 82,
   "metadata": {
    "scrolled": true
   },
   "outputs": [],
   "source": [
    "#To generate positions to image for tissue slices, select n points at the edge of the desired area for each slice\n",
    "#and generate x*x tiles centered at the desired region. The tiles that are not overlapped with the desired region are removed. \n",
    "#points = pd.read_csv(r\"D:\\Data\\AV\\MOP_12092021\\steve.txt\", header = None, sep=',')\n",
    "\n",
    "points1 = [[0,0],[0,-1000], [1000,0], [1000,-1000]]\n",
    "#points2 = [[-6799, 3946], [-6531, 4467], [-6264, 5138]]\n",
    "#points3 = [[-11850, 7763], [-11541, 8429], [-11489, 8836], [-9450, 7763], [-9141, 8429], [-9089, 8836]]\n",
    "\n",
    "\n",
    "points = np.array([points1])\n",
    "\n",
    "\n",
    "fov_x_width = int(np.floor((123.0*0.75)/2))\n",
    "fov_y_width = int(np.floor((200.0*0.75)/2))"
   ]
  },
  {
   "cell_type": "code",
   "execution_count": 83,
   "metadata": {},
   "outputs": [],
   "source": [
    "temp = np.array(points1)\n",
    "temp = np.transpose(temp)"
   ]
  },
  {
   "cell_type": "code",
   "execution_count": 84,
   "metadata": {},
   "outputs": [
    {
     "name": "stdout",
     "output_type": "stream",
     "text": [
      "(0, 1000)\n",
      "(-1000, 0)\n"
     ]
    }
   ],
   "source": [
    "print((np.min(temp[0]), np.max(temp[0])))\n",
    "print((np.min(temp[1]), np.max(temp[1])))"
   ]
  },
  {
   "cell_type": "code",
   "execution_count": 85,
   "metadata": {},
   "outputs": [
    {
     "data": {
      "text/plain": [
       "array([[[    0,     0],\n",
       "        [    0, -1000],\n",
       "        [ 1000,     0],\n",
       "        [ 1000, -1000]]])"
      ]
     },
     "execution_count": 85,
     "metadata": {},
     "output_type": "execute_result"
    }
   ],
   "source": [
    "points"
   ]
  },
  {
   "cell_type": "code",
   "execution_count": 86,
   "metadata": {},
   "outputs": [
    {
     "data": {
      "text/plain": [
       "(1, 4, 2)"
      ]
     },
     "execution_count": 86,
     "metadata": {},
     "output_type": "execute_result"
    }
   ],
   "source": [
    "points.shape"
   ]
  },
  {
   "cell_type": "code",
   "execution_count": 87,
   "metadata": {},
   "outputs": [],
   "source": [
    "grid = []\n",
    "for x in range(-fov_x_width, fov_y_width+1):\n",
    "  for y in range(-fov_x_width, fov_y_width+1):\n",
    "    if x % 2 == 0:\n",
    "        grid.append((x*2*fov_x_width, y*2*fov_y_width))\n",
    "    else:\n",
    "        grid.append((x*2*fov_x_width, -y*2*fov_y_width))\n",
    "    \n",
    "grid_R =  grid[::-1]\n",
    "grid = np.array(grid)\n",
    "grid_R = np.array(grid_R)"
   ]
  },
  {
   "cell_type": "code",
   "execution_count": 88,
   "metadata": {},
   "outputs": [
    {
     "data": {
      "text/plain": [
       "array([[  6900, -11250],\n",
       "       [  6900, -11100],\n",
       "       [  6900, -10950],\n",
       "       ...,\n",
       "       [ -4232,  -6600],\n",
       "       [ -4232,  -6750],\n",
       "       [ -4232,  -6900]])"
      ]
     },
     "execution_count": 88,
     "metadata": {},
     "output_type": "execute_result"
    }
   ],
   "source": [
    "grid_R"
   ]
  },
  {
   "cell_type": "code",
   "execution_count": 89,
   "metadata": {
    "scrolled": true
   },
   "outputs": [],
   "source": [
    "n = points.shape[0] #number of positions you selected for each slice to define the region of interest\n",
    "positions = np.empty((0,2))\n",
    "for i in range(0,n):\n",
    "    tissue = geometry.Polygon(points[i])\n",
    "    center = np.mean(points[i], axis = 0)\n",
    "    grids = grid_R + center\n",
    "    saved = np.empty((0,2))\n",
    "    for j in range(0,len(grids)):\n",
    "        area = [[grids[j][0]-fov_x_width,grids[j][1]-fov_y_width],[grids[j][0]-fov_x_width,grids[j][1]+fov_y_width],[grids[j][0]+fov_x_width,grids[j][1]+fov_y_width],[grids[j][0]+fov_x_width,grids[j][1]-fov_y_width]]\n",
    "        tile = geometry.Polygon([[p[0], p[1]] for p in area])\n",
    "        if tissue.intersects(tile) == True:\n",
    "            saved = np.concatenate((saved,np.array([grids[j]])), axis = 0)\n",
    "    positions = np.concatenate((positions,saved))"
   ]
  },
  {
   "cell_type": "code",
   "execution_count": 90,
   "metadata": {},
   "outputs": [
    {
     "data": {
      "text/plain": [
       "55"
      ]
     },
     "execution_count": 90,
     "metadata": {},
     "output_type": "execute_result"
    }
   ],
   "source": [
    "len(positions)"
   ]
  },
  {
   "cell_type": "code",
   "execution_count": 91,
   "metadata": {},
   "outputs": [
    {
     "data": {
      "text/plain": [
       "array([[ 960., -950.],\n",
       "       [ 960., -800.],\n",
       "       [ 960., -650.],\n",
       "       [ 960., -500.],\n",
       "       [ 960., -350.],\n",
       "       [ 960., -200.],\n",
       "       [ 960.,  -50.],\n",
       "       [ 868.,  -50.],\n",
       "       [ 868., -200.],\n",
       "       [ 868., -350.],\n",
       "       [ 868., -500.],\n",
       "       [ 868., -650.],\n",
       "       [ 868., -800.],\n",
       "       [ 868., -950.],\n",
       "       [ 776., -800.],\n",
       "       [ 776., -650.],\n",
       "       [ 776., -500.],\n",
       "       [ 776., -350.],\n",
       "       [ 776., -200.],\n",
       "       [ 684., -200.],\n",
       "       [ 684., -350.],\n",
       "       [ 684., -500.],\n",
       "       [ 684., -650.],\n",
       "       [ 684., -800.],\n",
       "       [ 592., -650.],\n",
       "       [ 592., -500.],\n",
       "       [ 592., -350.],\n",
       "       [ 500., -500.],\n",
       "       [ 408., -650.],\n",
       "       [ 408., -500.],\n",
       "       [ 408., -350.],\n",
       "       [ 316., -200.],\n",
       "       [ 316., -350.],\n",
       "       [ 316., -500.],\n",
       "       [ 316., -650.],\n",
       "       [ 316., -800.],\n",
       "       [ 224., -800.],\n",
       "       [ 224., -650.],\n",
       "       [ 224., -500.],\n",
       "       [ 224., -350.],\n",
       "       [ 224., -200.],\n",
       "       [ 132.,  -50.],\n",
       "       [ 132., -200.],\n",
       "       [ 132., -350.],\n",
       "       [ 132., -500.],\n",
       "       [ 132., -650.],\n",
       "       [ 132., -800.],\n",
       "       [ 132., -950.],\n",
       "       [  40., -950.],\n",
       "       [  40., -800.],\n",
       "       [  40., -650.],\n",
       "       [  40., -500.],\n",
       "       [  40., -350.],\n",
       "       [  40., -200.],\n",
       "       [  40.,  -50.]])"
      ]
     },
     "execution_count": 91,
     "metadata": {},
     "output_type": "execute_result"
    }
   ],
   "source": [
    "positions"
   ]
  },
  {
   "cell_type": "code",
   "execution_count": 92,
   "metadata": {},
   "outputs": [],
   "source": [
    "np.savetxt(r\"C:\\Users\\Zhuang\\storm_control\\storm_control\\dave\\xml_generators\\Aditya\\positions.txt\",positions, delimiter=',')"
   ]
  },
  {
   "cell_type": "code",
   "execution_count": null,
   "metadata": {},
   "outputs": [],
   "source": []
  }
 ],
 "metadata": {
  "kernelspec": {
   "display_name": "Python 3",
   "language": "python",
   "name": "python3"
  },
  "language_info": {
   "codemirror_mode": {
    "name": "ipython",
    "version": 3
   },
   "file_extension": ".py",
   "mimetype": "text/x-python",
   "name": "python",
   "nbconvert_exporter": "python",
   "pygments_lexer": "ipython3",
   "version": "3.8.5"
  }
 },
 "nbformat": 4,
 "nbformat_minor": 2
}
